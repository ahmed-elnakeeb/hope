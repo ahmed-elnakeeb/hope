{
 "metadata": {
  "language_info": {
   "codemirror_mode": {
    "name": "ipython",
    "version": 3
   },
   "file_extension": ".py",
   "mimetype": "text/x-python",
   "name": "python",
   "nbconvert_exporter": "python",
   "pygments_lexer": "ipython3",
   "version": "3.8.6-final"
  },
  "orig_nbformat": 2,
  "kernelspec": {
   "name": "Python 3.8.6 64-bit",
   "display_name": "Python 3.8.6 64-bit",
   "metadata": {
    "interpreter": {
     "hash": "21f47727c842815994c110b35dd528574b4e0eee7ce5edb9f14db8851fcf7be1"
    }
   }
  }
 },
 "nbformat": 4,
 "nbformat_minor": 2,
 "cells": [
  {
   "cell_type": "code",
   "execution_count": 6,
   "metadata": {},
   "outputs": [],
   "source": [
    "import tensorflow as tf\n",
    "import numpy as np\n",
    "import math\n",
    "import matplotlib.image as mpimg\n",
    "import matplotlib.pyplot as plt\n",
    "import pandas as pd\n",
    "# mnsit=tf.keras.datasets.mnist\n",
    "# (x_train,y_train),(x_test,y_test)=mnsit.load_data()\n",
    "# x_train=tf.keras.utils.normalize(x_train,axis=1)\n",
    "# x_test=tf.keras.utils.normalize(x_test,axis=1)\n"
   ]
  },
  {
   "cell_type": "code",
   "execution_count": 89,
   "metadata": {},
   "outputs": [],
   "source": [
    "features=[\"PassengerId\",\"Survived\",\"Pclass\",\"Name\",\"Sex\",\"Age\",\"SibSp\",\"Parch\",\"Ticket\",\"Fare\",\"Cabin\",\"Embarked\"]\n",
    "_features = [\"Pclass\", \"Sex\", \"SibSp\", \"Parch\"]\n",
    "\n",
    "train_data = pd.read_csv(\"./kaggle/input/titanic/train.csv\",names=features,skiprows=1)\n",
    "_train_data = pd.read_csv(\"./kaggle/input/titanic/train.csv\",names=_features,skiprows=1)\n",
    "f1=train_data.Pclass.to_list()\n",
    "f2=train_data.Sex.to_list()\n",
    "f3=train_data.SibSp.to_list()\n",
    "f4=train_data.Parch.to_list()\n",
    "\n",
    "for i in range(len(f2)):\n",
    "    if f2[i]==\"famale\":\n",
    "       f2[i]=0\n",
    "    else:\n",
    "        f2[i]=1\n",
    "f=[]\n",
    "for i in range(len(f2)):\n",
    "    f.append([f1[i],f2[i],f3[i],f4[i]])\n",
    "x_train=np.array(f)\n",
    "y_train=np.array(train_data.Survived.to_list())\n"
   ]
  },
  {
   "cell_type": "code",
   "execution_count": 119,
   "metadata": {},
   "outputs": [],
   "source": [
    "\n",
    "features=[\"PassengerId\",\"Pclass\",\"Name\",\"Sex\",\"Age\",\"SibSp\",\"Parch\",\"Ticket\",\"Fare\",\"Cabin\",\"Embarked\"]\n",
    "test_data = pd.read_csv(\"./kaggle/input/titanic/test.csv\",names=features,skiprows=1)\n",
    "f1=test_data.Pclass.to_list()\n",
    "f2=test_data.Sex.to_list()\n",
    "f3=test_data.SibSp.to_list()\n",
    "f4=test_data.Parch.to_list()\n",
    "\n",
    "for i in range(len(f2)):\n",
    "    if f2[i]==\"famale\":\n",
    "       f2[i]=0\n",
    "    else:\n",
    "        f2[i]=1\n",
    "f=[]\n",
    "for i in range(len(f2)):\n",
    "    f.append([f1[i],f2[i],f3[i],f4[i]])\n",
    "x_test=np.array(f)\n"
   ]
  },
  {
   "cell_type": "code",
   "execution_count": 91,
   "metadata": {},
   "outputs": [
    {
     "output_type": "stream",
     "name": "stdout",
     "text": [
      "Epoch 1/50\n",
      "446/446 [==============================] - 0s 518us/step - loss: 0.6254 - accuracy: 0.6745\n",
      "Epoch 2/50\n",
      "446/446 [==============================] - 0s 516us/step - loss: 0.6024 - accuracy: 0.6835\n",
      "Epoch 3/50\n",
      "446/446 [==============================] - 0s 531us/step - loss: 0.6010 - accuracy: 0.6869\n",
      "Epoch 4/50\n",
      "446/446 [==============================] - 0s 529us/step - loss: 0.5910 - accuracy: 0.7048\n",
      "Epoch 5/50\n",
      "446/446 [==============================] - 0s 529us/step - loss: 0.5939 - accuracy: 0.6936\n",
      "Epoch 6/50\n",
      "446/446 [==============================] - 0s 516us/step - loss: 0.5965 - accuracy: 0.7037\n",
      "Epoch 7/50\n",
      "446/446 [==============================] - 0s 525us/step - loss: 0.5891 - accuracy: 0.6936\n",
      "Epoch 8/50\n",
      "446/446 [==============================] - 0s 531us/step - loss: 0.5883 - accuracy: 0.7026\n",
      "Epoch 9/50\n",
      "446/446 [==============================] - 0s 520us/step - loss: 0.5905 - accuracy: 0.6981\n",
      "Epoch 10/50\n",
      "446/446 [==============================] - 0s 516us/step - loss: 0.5876 - accuracy: 0.7059\n",
      "Epoch 11/50\n",
      "446/446 [==============================] - 0s 509us/step - loss: 0.5866 - accuracy: 0.7026\n",
      "Epoch 12/50\n",
      "446/446 [==============================] - 0s 502us/step - loss: 0.5856 - accuracy: 0.6902\n",
      "Epoch 13/50\n",
      "446/446 [==============================] - 0s 531us/step - loss: 0.5862 - accuracy: 0.7003\n",
      "Epoch 14/50\n",
      "446/446 [==============================] - 0s 509us/step - loss: 0.5857 - accuracy: 0.7048\n",
      "Epoch 15/50\n",
      "446/446 [==============================] - 0s 502us/step - loss: 0.5825 - accuracy: 0.7026\n",
      "Epoch 16/50\n",
      "446/446 [==============================] - 0s 518us/step - loss: 0.5862 - accuracy: 0.7082\n",
      "Epoch 17/50\n",
      "446/446 [==============================] - 0s 540us/step - loss: 0.5832 - accuracy: 0.7104\n",
      "Epoch 18/50\n",
      "446/446 [==============================] - 0s 534us/step - loss: 0.5849 - accuracy: 0.7015\n",
      "Epoch 19/50\n",
      "446/446 [==============================] - 0s 511us/step - loss: 0.5843 - accuracy: 0.7059\n",
      "Epoch 20/50\n",
      "446/446 [==============================] - 0s 513us/step - loss: 0.5876 - accuracy: 0.7015\n",
      "Epoch 21/50\n",
      "446/446 [==============================] - 0s 520us/step - loss: 0.5831 - accuracy: 0.7015\n",
      "Epoch 22/50\n",
      "446/446 [==============================] - 0s 509us/step - loss: 0.5844 - accuracy: 0.7037\n",
      "Epoch 23/50\n",
      "446/446 [==============================] - 0s 513us/step - loss: 0.5821 - accuracy: 0.7138\n",
      "Epoch 24/50\n",
      "446/446 [==============================] - 0s 507us/step - loss: 0.5816 - accuracy: 0.7093\n",
      "Epoch 25/50\n",
      "446/446 [==============================] - 0s 509us/step - loss: 0.5818 - accuracy: 0.7003\n",
      "Epoch 26/50\n",
      "446/446 [==============================] - 0s 509us/step - loss: 0.5815 - accuracy: 0.7127\n",
      "Epoch 27/50\n",
      "446/446 [==============================] - 0s 587us/step - loss: 0.5819 - accuracy: 0.7037\n",
      "Epoch 28/50\n",
      "446/446 [==============================] - 0s 529us/step - loss: 0.5811 - accuracy: 0.7082\n",
      "Epoch 29/50\n",
      "446/446 [==============================] - 0s 507us/step - loss: 0.5808 - accuracy: 0.7071\n",
      "Epoch 30/50\n",
      "446/446 [==============================] - 0s 509us/step - loss: 0.5800 - accuracy: 0.7082\n",
      "Epoch 31/50\n",
      "446/446 [==============================] - 0s 502us/step - loss: 0.5820 - accuracy: 0.7037\n",
      "Epoch 32/50\n",
      "446/446 [==============================] - 0s 525us/step - loss: 0.5790 - accuracy: 0.7127\n",
      "Epoch 33/50\n",
      "446/446 [==============================] - 0s 507us/step - loss: 0.5786 - accuracy: 0.7104\n",
      "Epoch 34/50\n",
      "446/446 [==============================] - 0s 507us/step - loss: 0.5810 - accuracy: 0.7059\n",
      "Epoch 35/50\n",
      "446/446 [==============================] - 0s 502us/step - loss: 0.5767 - accuracy: 0.7149\n",
      "Epoch 36/50\n",
      "446/446 [==============================] - 0s 511us/step - loss: 0.5791 - accuracy: 0.7104\n",
      "Epoch 37/50\n",
      "446/446 [==============================] - 0s 511us/step - loss: 0.5792 - accuracy: 0.7138\n",
      "Epoch 38/50\n",
      "446/446 [==============================] - 0s 509us/step - loss: 0.5746 - accuracy: 0.7194\n",
      "Epoch 39/50\n",
      "446/446 [==============================] - 0s 513us/step - loss: 0.5784 - accuracy: 0.7160\n",
      "Epoch 40/50\n",
      "446/446 [==============================] - 0s 511us/step - loss: 0.5778 - accuracy: 0.7116\n",
      "Epoch 41/50\n",
      "446/446 [==============================] - 0s 513us/step - loss: 0.5768 - accuracy: 0.7104\n",
      "Epoch 42/50\n",
      "446/446 [==============================] - 0s 516us/step - loss: 0.5773 - accuracy: 0.7127\n",
      "Epoch 43/50\n",
      "446/446 [==============================] - 0s 513us/step - loss: 0.5783 - accuracy: 0.7149\n",
      "Epoch 44/50\n",
      "446/446 [==============================] - 0s 509us/step - loss: 0.5756 - accuracy: 0.7116\n",
      "Epoch 45/50\n",
      "446/446 [==============================] - 0s 511us/step - loss: 0.5789 - accuracy: 0.7138\n",
      "Epoch 46/50\n",
      "446/446 [==============================] - 0s 507us/step - loss: 0.5766 - accuracy: 0.7172\n",
      "Epoch 47/50\n",
      "446/446 [==============================] - 0s 513us/step - loss: 0.5767 - accuracy: 0.7116\n",
      "Epoch 48/50\n",
      "446/446 [==============================] - 0s 565us/step - loss: 0.5734 - accuracy: 0.7172\n",
      "Epoch 49/50\n",
      "446/446 [==============================] - 0s 531us/step - loss: 0.5756 - accuracy: 0.7093\n",
      "Epoch 50/50\n",
      "446/446 [==============================] - 0s 507us/step - loss: 0.5759 - accuracy: 0.7149\n"
     ]
    },
    {
     "output_type": "execute_result",
     "data": {
      "text/plain": [
       "<tensorflow.python.keras.callbacks.History at 0x235cb340df0>"
      ]
     },
     "metadata": {},
     "execution_count": 91
    }
   ],
   "source": [
    "model=tf.keras.models.Sequential()\n",
    "model.add(tf.keras.layers.Flatten())\n",
    "model.add(tf.keras.layers.Dense(128,activation=tf.nn.relu))\n",
    "model.add(tf.keras.layers.Dense(128,activation=tf.nn.relu))\n",
    "model.add(tf.keras.layers.Dense(2,activation=tf.nn.softmax))\n",
    "model.compile(optimizer=\"adam\",\n",
    "loss='sparse_categorical_crossentropy',\n",
    "metrics=['accuracy'])\n",
    "model.fit(x_train,y_train,epochs=50,batch_size=2)\n",
    "\n"
   ]
  },
  {
   "cell_type": "code",
   "execution_count": 95,
   "metadata": {},
   "outputs": [
    {
     "output_type": "stream",
     "name": "stdout",
     "text": [
      "28/28 [==============================] - 0s 429us/step - loss: 0.5660 - accuracy: 0.7160\n",
      "(418, 4) (891,) <class 'numpy.ndarray'> <class 'numpy.ndarray'>\n",
      "0.565960168838501 0.7160493731498718\n"
     ]
    }
   ],
   "source": [
    "loss,acc=model.evaluate(x_train,y_train)\n",
    "print(x_test.shape,y_test.shape,type(x_test),type(y_test))\n",
    "print(loss,acc)"
   ]
  },
  {
   "cell_type": "code",
   "execution_count": 120,
   "metadata": {},
   "outputs": [
    {
     "output_type": "execute_result",
     "data": {
      "text/plain": [
       "array([[3, 1, 1, 0]])"
      ]
     },
     "metadata": {},
     "execution_count": 120
    }
   ],
   "source": [
    "p=x_test[1]\n",
    "p=p.reshape(1,4)\n",
    "p"
   ]
  },
  {
   "cell_type": "code",
   "execution_count": 125,
   "metadata": {},
   "outputs": [
    {
     "output_type": "execute_result",
     "data": {
      "text/plain": [
       "1"
      ]
     },
     "metadata": {},
     "execution_count": 125
    }
   ],
   "source": [
    "\n",
    "x=model.predict([[0, 0, 0, 0]])\n",
    "x[0]\n",
    "np.argmax(x[0])\n"
   ]
  },
  {
   "cell_type": "code",
   "execution_count": 129,
   "metadata": {},
   "outputs": [],
   "source": [
    "f5=test_data.PassengerId.to_list()\n",
    "for i in range (len(f5)):\n",
    "    p=x_test[i]\n",
    "    p=p.reshape(1,4)\n",
    "    x=model.predict([p])\n",
    "    f5[i]=[f5[i],np.argmax(x[0])]"
   ]
  },
  {
   "cell_type": "code",
   "execution_count": 132,
   "metadata": {},
   "outputs": [],
   "source": [
    "import csv\n",
    "\n",
    "with open(\"out.csv\", \"w\", newline=\"\") as f:\n",
    "    writer = csv.writer(f)\n",
    "    writer.writerow([\"PassengerId\",\"Survived\"])\n",
    "    writer.writerows(f5)"
   ]
  },
  {
   "cell_type": "code",
   "execution_count": null,
   "metadata": {},
   "outputs": [],
   "source": []
  }
 ]
}